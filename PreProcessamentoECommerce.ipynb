{
 "cells": [
  {
   "cell_type": "code",
   "execution_count": 1,
   "id": "6061c3c2",
   "metadata": {},
   "outputs": [],
   "source": [
    "#Bibliotecas\n",
    "import sklearn\n",
    "import numpy as np\n",
    "import pandas as pd\n",
    "from sklearn.preprocessing import LabelEncoder, MinMaxScaler, StandardScaler"
   ]
  },
  {
   "cell_type": "markdown",
   "id": "bf9c47bd",
   "metadata": {},
   "source": [
    "## Carregando o Dataset (gerado na etapa de Engenharia de Atributos)"
   ]
  },
  {
   "cell_type": "code",
   "execution_count": 2,
   "id": "9c2ab08e",
   "metadata": {},
   "outputs": [],
   "source": [
    "#Carrega o dataset\n",
    "df = pd.read_csv('dados/df_eng.csv', index_col = 0)"
   ]
  },
  {
   "cell_type": "code",
   "execution_count": 3,
   "id": "7580328e",
   "metadata": {},
   "outputs": [
    {
     "data": {
      "text/plain": [
       "(10643, 16)"
      ]
     },
     "execution_count": 3,
     "metadata": {},
     "output_type": "execute_result"
    }
   ],
   "source": [
    "df.shape"
   ]
  },
  {
   "cell_type": "code",
   "execution_count": 4,
   "id": "48fb1020",
   "metadata": {},
   "outputs": [
    {
     "data": {
      "text/html": [
       "<div>\n",
       "<style scoped>\n",
       "    .dataframe tbody tr th:only-of-type {\n",
       "        vertical-align: middle;\n",
       "    }\n",
       "\n",
       "    .dataframe tbody tr th {\n",
       "        vertical-align: top;\n",
       "    }\n",
       "\n",
       "    .dataframe thead th {\n",
       "        text-align: right;\n",
       "    }\n",
       "</style>\n",
       "<table border=\"1\" class=\"dataframe\">\n",
       "  <thead>\n",
       "    <tr style=\"text-align: right;\">\n",
       "      <th></th>\n",
       "      <th>ID</th>\n",
       "      <th>corredor_armazem</th>\n",
       "      <th>modo_envio</th>\n",
       "      <th>numero_chamadas_cliente</th>\n",
       "      <th>avaliacao_cliente</th>\n",
       "      <th>custo_produto</th>\n",
       "      <th>compras_anteriores</th>\n",
       "      <th>prioridade_produto</th>\n",
       "      <th>genero</th>\n",
       "      <th>desconto</th>\n",
       "      <th>peso_gramas</th>\n",
       "      <th>entregue_no_prazo</th>\n",
       "      <th>performance_prioridade_envio</th>\n",
       "      <th>performance_modo_envio</th>\n",
       "      <th>faixa_desconto</th>\n",
       "      <th>performance_faixa_desconto</th>\n",
       "    </tr>\n",
       "  </thead>\n",
       "  <tbody>\n",
       "    <tr>\n",
       "      <th>0</th>\n",
       "      <td>1</td>\n",
       "      <td>D</td>\n",
       "      <td>Aviao</td>\n",
       "      <td>4</td>\n",
       "      <td>2</td>\n",
       "      <td>177</td>\n",
       "      <td>3</td>\n",
       "      <td>baixa</td>\n",
       "      <td>F</td>\n",
       "      <td>44</td>\n",
       "      <td>1233</td>\n",
       "      <td>1</td>\n",
       "      <td>Não Houve Atraso</td>\n",
       "      <td>Não Houve Atraso</td>\n",
       "      <td>Desconto Acima da Media</td>\n",
       "      <td>Entrega no Prazo com Desconto Acima da Media</td>\n",
       "    </tr>\n",
       "    <tr>\n",
       "      <th>1</th>\n",
       "      <td>2</td>\n",
       "      <td>F</td>\n",
       "      <td>Aviao</td>\n",
       "      <td>4</td>\n",
       "      <td>5</td>\n",
       "      <td>216</td>\n",
       "      <td>2</td>\n",
       "      <td>baixa</td>\n",
       "      <td>M</td>\n",
       "      <td>59</td>\n",
       "      <td>3088</td>\n",
       "      <td>1</td>\n",
       "      <td>Não Houve Atraso</td>\n",
       "      <td>Não Houve Atraso</td>\n",
       "      <td>Desconto Acima da Media</td>\n",
       "      <td>Entrega no Prazo com Desconto Acima da Media</td>\n",
       "    </tr>\n",
       "    <tr>\n",
       "      <th>2</th>\n",
       "      <td>3</td>\n",
       "      <td>A</td>\n",
       "      <td>Aviao</td>\n",
       "      <td>2</td>\n",
       "      <td>2</td>\n",
       "      <td>183</td>\n",
       "      <td>4</td>\n",
       "      <td>baixa</td>\n",
       "      <td>M</td>\n",
       "      <td>48</td>\n",
       "      <td>3374</td>\n",
       "      <td>1</td>\n",
       "      <td>Não Houve Atraso</td>\n",
       "      <td>Não Houve Atraso</td>\n",
       "      <td>Desconto Acima da Media</td>\n",
       "      <td>Entrega no Prazo com Desconto Acima da Media</td>\n",
       "    </tr>\n",
       "    <tr>\n",
       "      <th>3</th>\n",
       "      <td>4</td>\n",
       "      <td>B</td>\n",
       "      <td>Aviao</td>\n",
       "      <td>3</td>\n",
       "      <td>3</td>\n",
       "      <td>176</td>\n",
       "      <td>4</td>\n",
       "      <td>media</td>\n",
       "      <td>M</td>\n",
       "      <td>10</td>\n",
       "      <td>1177</td>\n",
       "      <td>1</td>\n",
       "      <td>Não Houve Atraso</td>\n",
       "      <td>Não Houve Atraso</td>\n",
       "      <td>Desconto Abaixo da Media</td>\n",
       "      <td>Entrega no Prazo com Desconto Abaixo da Media</td>\n",
       "    </tr>\n",
       "    <tr>\n",
       "      <th>4</th>\n",
       "      <td>5</td>\n",
       "      <td>C</td>\n",
       "      <td>Aviao</td>\n",
       "      <td>2</td>\n",
       "      <td>2</td>\n",
       "      <td>184</td>\n",
       "      <td>3</td>\n",
       "      <td>media</td>\n",
       "      <td>F</td>\n",
       "      <td>46</td>\n",
       "      <td>2484</td>\n",
       "      <td>1</td>\n",
       "      <td>Não Houve Atraso</td>\n",
       "      <td>Não Houve Atraso</td>\n",
       "      <td>Desconto Acima da Media</td>\n",
       "      <td>Entrega no Prazo com Desconto Acima da Media</td>\n",
       "    </tr>\n",
       "  </tbody>\n",
       "</table>\n",
       "</div>"
      ],
      "text/plain": [
       "   ID corredor_armazem modo_envio  numero_chamadas_cliente  avaliacao_cliente  \\\n",
       "0   1                D      Aviao                        4                  2   \n",
       "1   2                F      Aviao                        4                  5   \n",
       "2   3                A      Aviao                        2                  2   \n",
       "3   4                B      Aviao                        3                  3   \n",
       "4   5                C      Aviao                        2                  2   \n",
       "\n",
       "   custo_produto  compras_anteriores prioridade_produto genero  desconto  \\\n",
       "0            177                   3              baixa      F        44   \n",
       "1            216                   2              baixa      M        59   \n",
       "2            183                   4              baixa      M        48   \n",
       "3            176                   4              media      M        10   \n",
       "4            184                   3              media      F        46   \n",
       "\n",
       "   peso_gramas  entregue_no_prazo performance_prioridade_envio  \\\n",
       "0         1233                  1             Não Houve Atraso   \n",
       "1         3088                  1             Não Houve Atraso   \n",
       "2         3374                  1             Não Houve Atraso   \n",
       "3         1177                  1             Não Houve Atraso   \n",
       "4         2484                  1             Não Houve Atraso   \n",
       "\n",
       "  performance_modo_envio            faixa_desconto  \\\n",
       "0       Não Houve Atraso   Desconto Acima da Media   \n",
       "1       Não Houve Atraso   Desconto Acima da Media   \n",
       "2       Não Houve Atraso   Desconto Acima da Media   \n",
       "3       Não Houve Atraso  Desconto Abaixo da Media   \n",
       "4       Não Houve Atraso   Desconto Acima da Media   \n",
       "\n",
       "                      performance_faixa_desconto  \n",
       "0   Entrega no Prazo com Desconto Acima da Media  \n",
       "1   Entrega no Prazo com Desconto Acima da Media  \n",
       "2   Entrega no Prazo com Desconto Acima da Media  \n",
       "3  Entrega no Prazo com Desconto Abaixo da Media  \n",
       "4   Entrega no Prazo com Desconto Acima da Media  "
      ]
     },
     "execution_count": 4,
     "metadata": {},
     "output_type": "execute_result"
    }
   ],
   "source": [
    "df.head()"
   ]
  },
  {
   "cell_type": "code",
   "execution_count": 5,
   "id": "12a2c050",
   "metadata": {},
   "outputs": [
    {
     "name": "stdout",
     "output_type": "stream",
     "text": [
      "<class 'pandas.core.frame.DataFrame'>\n",
      "Int64Index: 10643 entries, 0 to 10999\n",
      "Data columns (total 16 columns):\n",
      " #   Column                        Non-Null Count  Dtype \n",
      "---  ------                        --------------  ----- \n",
      " 0   ID                            10643 non-null  int64 \n",
      " 1   corredor_armazem              10643 non-null  object\n",
      " 2   modo_envio                    10643 non-null  object\n",
      " 3   numero_chamadas_cliente       10643 non-null  int64 \n",
      " 4   avaliacao_cliente             10643 non-null  int64 \n",
      " 5   custo_produto                 10643 non-null  int64 \n",
      " 6   compras_anteriores            10643 non-null  int64 \n",
      " 7   prioridade_produto            10643 non-null  object\n",
      " 8   genero                        10643 non-null  object\n",
      " 9   desconto                      10643 non-null  int64 \n",
      " 10  peso_gramas                   10643 non-null  int64 \n",
      " 11  entregue_no_prazo             10643 non-null  int64 \n",
      " 12  performance_prioridade_envio  10643 non-null  object\n",
      " 13  performance_modo_envio        10643 non-null  object\n",
      " 14  faixa_desconto                10643 non-null  object\n",
      " 15  performance_faixa_desconto    10643 non-null  object\n",
      "dtypes: int64(8), object(8)\n",
      "memory usage: 1.4+ MB\n"
     ]
    }
   ],
   "source": [
    "df.info()"
   ]
  },
  {
   "cell_type": "code",
   "execution_count": 6,
   "id": "f21ff849",
   "metadata": {},
   "outputs": [
    {
     "data": {
      "text/plain": [
       "Index(['ID', 'corredor_armazem', 'modo_envio', 'numero_chamadas_cliente',\n",
       "       'avaliacao_cliente', 'custo_produto', 'compras_anteriores',\n",
       "       'prioridade_produto', 'genero', 'desconto', 'peso_gramas',\n",
       "       'entregue_no_prazo', 'performance_prioridade_envio',\n",
       "       'performance_modo_envio', 'faixa_desconto',\n",
       "       'performance_faixa_desconto'],\n",
       "      dtype='object')"
      ]
     },
     "execution_count": 6,
     "metadata": {},
     "output_type": "execute_result"
    }
   ],
   "source": [
    "df.columns"
   ]
  },
  {
   "cell_type": "markdown",
   "id": "754000d1",
   "metadata": {},
   "source": [
    "## Label Encoding"
   ]
  },
  {
   "cell_type": "markdown",
   "id": "ecefdad0",
   "metadata": {},
   "source": [
    "### Método 1"
   ]
  },
  {
   "cell_type": "code",
   "execution_count": 7,
   "id": "982d65db",
   "metadata": {},
   "outputs": [
    {
     "data": {
      "text/plain": [
       "baixa    5174\n",
       "media    4587\n",
       "alta      882\n",
       "Name: prioridade_produto, dtype: int64"
      ]
     },
     "execution_count": 7,
     "metadata": {},
     "output_type": "execute_result"
    }
   ],
   "source": [
    "#Exemplo de variável categórica ordinal\n",
    "df['prioridade_produto'].value_counts()"
   ]
  },
  {
   "cell_type": "code",
   "execution_count": 8,
   "id": "bc53f6a5",
   "metadata": {},
   "outputs": [],
   "source": [
    "#Normalmente o LabelEncoder lista as categorias em ordem alfabética, assim, o mesmo é feito aqui.\n",
    "dic_prioridade_produto = {'baixa':1, 'media':2, 'alta':0}"
   ]
  },
  {
   "cell_type": "code",
   "execution_count": 9,
   "id": "189bfadd",
   "metadata": {},
   "outputs": [],
   "source": [
    "df['prioridade_produto'] = df['prioridade_produto'].map(dic_prioridade_produto)"
   ]
  },
  {
   "cell_type": "code",
   "execution_count": 10,
   "id": "c6162dc0",
   "metadata": {},
   "outputs": [
    {
     "data": {
      "text/plain": [
       "1    5174\n",
       "2    4587\n",
       "0     882\n",
       "Name: prioridade_produto, dtype: int64"
      ]
     },
     "execution_count": 10,
     "metadata": {},
     "output_type": "execute_result"
    }
   ],
   "source": [
    "df['prioridade_produto'].value_counts()"
   ]
  },
  {
   "cell_type": "code",
   "execution_count": 11,
   "id": "17c4714d",
   "metadata": {},
   "outputs": [
    {
     "data": {
      "text/html": [
       "<div>\n",
       "<style scoped>\n",
       "    .dataframe tbody tr th:only-of-type {\n",
       "        vertical-align: middle;\n",
       "    }\n",
       "\n",
       "    .dataframe tbody tr th {\n",
       "        vertical-align: top;\n",
       "    }\n",
       "\n",
       "    .dataframe thead th {\n",
       "        text-align: right;\n",
       "    }\n",
       "</style>\n",
       "<table border=\"1\" class=\"dataframe\">\n",
       "  <thead>\n",
       "    <tr style=\"text-align: right;\">\n",
       "      <th></th>\n",
       "      <th>ID</th>\n",
       "      <th>corredor_armazem</th>\n",
       "      <th>modo_envio</th>\n",
       "      <th>numero_chamadas_cliente</th>\n",
       "      <th>avaliacao_cliente</th>\n",
       "      <th>custo_produto</th>\n",
       "      <th>compras_anteriores</th>\n",
       "      <th>prioridade_produto</th>\n",
       "      <th>genero</th>\n",
       "      <th>desconto</th>\n",
       "      <th>peso_gramas</th>\n",
       "      <th>entregue_no_prazo</th>\n",
       "      <th>performance_prioridade_envio</th>\n",
       "      <th>performance_modo_envio</th>\n",
       "      <th>faixa_desconto</th>\n",
       "      <th>performance_faixa_desconto</th>\n",
       "    </tr>\n",
       "  </thead>\n",
       "  <tbody>\n",
       "    <tr>\n",
       "      <th>0</th>\n",
       "      <td>1</td>\n",
       "      <td>D</td>\n",
       "      <td>Aviao</td>\n",
       "      <td>4</td>\n",
       "      <td>2</td>\n",
       "      <td>177</td>\n",
       "      <td>3</td>\n",
       "      <td>1</td>\n",
       "      <td>F</td>\n",
       "      <td>44</td>\n",
       "      <td>1233</td>\n",
       "      <td>1</td>\n",
       "      <td>Não Houve Atraso</td>\n",
       "      <td>Não Houve Atraso</td>\n",
       "      <td>Desconto Acima da Media</td>\n",
       "      <td>Entrega no Prazo com Desconto Acima da Media</td>\n",
       "    </tr>\n",
       "    <tr>\n",
       "      <th>1</th>\n",
       "      <td>2</td>\n",
       "      <td>F</td>\n",
       "      <td>Aviao</td>\n",
       "      <td>4</td>\n",
       "      <td>5</td>\n",
       "      <td>216</td>\n",
       "      <td>2</td>\n",
       "      <td>1</td>\n",
       "      <td>M</td>\n",
       "      <td>59</td>\n",
       "      <td>3088</td>\n",
       "      <td>1</td>\n",
       "      <td>Não Houve Atraso</td>\n",
       "      <td>Não Houve Atraso</td>\n",
       "      <td>Desconto Acima da Media</td>\n",
       "      <td>Entrega no Prazo com Desconto Acima da Media</td>\n",
       "    </tr>\n",
       "    <tr>\n",
       "      <th>2</th>\n",
       "      <td>3</td>\n",
       "      <td>A</td>\n",
       "      <td>Aviao</td>\n",
       "      <td>2</td>\n",
       "      <td>2</td>\n",
       "      <td>183</td>\n",
       "      <td>4</td>\n",
       "      <td>1</td>\n",
       "      <td>M</td>\n",
       "      <td>48</td>\n",
       "      <td>3374</td>\n",
       "      <td>1</td>\n",
       "      <td>Não Houve Atraso</td>\n",
       "      <td>Não Houve Atraso</td>\n",
       "      <td>Desconto Acima da Media</td>\n",
       "      <td>Entrega no Prazo com Desconto Acima da Media</td>\n",
       "    </tr>\n",
       "    <tr>\n",
       "      <th>3</th>\n",
       "      <td>4</td>\n",
       "      <td>B</td>\n",
       "      <td>Aviao</td>\n",
       "      <td>3</td>\n",
       "      <td>3</td>\n",
       "      <td>176</td>\n",
       "      <td>4</td>\n",
       "      <td>2</td>\n",
       "      <td>M</td>\n",
       "      <td>10</td>\n",
       "      <td>1177</td>\n",
       "      <td>1</td>\n",
       "      <td>Não Houve Atraso</td>\n",
       "      <td>Não Houve Atraso</td>\n",
       "      <td>Desconto Abaixo da Media</td>\n",
       "      <td>Entrega no Prazo com Desconto Abaixo da Media</td>\n",
       "    </tr>\n",
       "    <tr>\n",
       "      <th>4</th>\n",
       "      <td>5</td>\n",
       "      <td>C</td>\n",
       "      <td>Aviao</td>\n",
       "      <td>2</td>\n",
       "      <td>2</td>\n",
       "      <td>184</td>\n",
       "      <td>3</td>\n",
       "      <td>2</td>\n",
       "      <td>F</td>\n",
       "      <td>46</td>\n",
       "      <td>2484</td>\n",
       "      <td>1</td>\n",
       "      <td>Não Houve Atraso</td>\n",
       "      <td>Não Houve Atraso</td>\n",
       "      <td>Desconto Acima da Media</td>\n",
       "      <td>Entrega no Prazo com Desconto Acima da Media</td>\n",
       "    </tr>\n",
       "  </tbody>\n",
       "</table>\n",
       "</div>"
      ],
      "text/plain": [
       "   ID corredor_armazem modo_envio  numero_chamadas_cliente  avaliacao_cliente  \\\n",
       "0   1                D      Aviao                        4                  2   \n",
       "1   2                F      Aviao                        4                  5   \n",
       "2   3                A      Aviao                        2                  2   \n",
       "3   4                B      Aviao                        3                  3   \n",
       "4   5                C      Aviao                        2                  2   \n",
       "\n",
       "   custo_produto  compras_anteriores  prioridade_produto genero  desconto  \\\n",
       "0            177                   3                   1      F        44   \n",
       "1            216                   2                   1      M        59   \n",
       "2            183                   4                   1      M        48   \n",
       "3            176                   4                   2      M        10   \n",
       "4            184                   3                   2      F        46   \n",
       "\n",
       "   peso_gramas  entregue_no_prazo performance_prioridade_envio  \\\n",
       "0         1233                  1             Não Houve Atraso   \n",
       "1         3088                  1             Não Houve Atraso   \n",
       "2         3374                  1             Não Houve Atraso   \n",
       "3         1177                  1             Não Houve Atraso   \n",
       "4         2484                  1             Não Houve Atraso   \n",
       "\n",
       "  performance_modo_envio            faixa_desconto  \\\n",
       "0       Não Houve Atraso   Desconto Acima da Media   \n",
       "1       Não Houve Atraso   Desconto Acima da Media   \n",
       "2       Não Houve Atraso   Desconto Acima da Media   \n",
       "3       Não Houve Atraso  Desconto Abaixo da Media   \n",
       "4       Não Houve Atraso   Desconto Acima da Media   \n",
       "\n",
       "                      performance_faixa_desconto  \n",
       "0   Entrega no Prazo com Desconto Acima da Media  \n",
       "1   Entrega no Prazo com Desconto Acima da Media  \n",
       "2   Entrega no Prazo com Desconto Acima da Media  \n",
       "3  Entrega no Prazo com Desconto Abaixo da Media  \n",
       "4   Entrega no Prazo com Desconto Acima da Media  "
      ]
     },
     "execution_count": 11,
     "metadata": {},
     "output_type": "execute_result"
    }
   ],
   "source": [
    "df.head()"
   ]
  },
  {
   "cell_type": "code",
   "execution_count": 12,
   "id": "4bed65f5",
   "metadata": {},
   "outputs": [
    {
     "data": {
      "text/plain": [
       "Navio       7212\n",
       "Aviao       1728\n",
       "Caminhao    1703\n",
       "Name: modo_envio, dtype: int64"
      ]
     },
     "execution_count": 12,
     "metadata": {},
     "output_type": "execute_result"
    }
   ],
   "source": [
    "#Considerando o modo de envio como uma variável categórica ordinal\n",
    "df['modo_envio'].value_counts()"
   ]
  },
  {
   "cell_type": "code",
   "execution_count": 13,
   "id": "78bc9973",
   "metadata": {},
   "outputs": [],
   "source": [
    "#Dessa vez sem ser em ordem alfabética\n",
    "dic_modo_envio = {'Navio':0, 'Aviao':1, 'Caminhao':2}"
   ]
  },
  {
   "cell_type": "code",
   "execution_count": 14,
   "id": "1f3c4b0c",
   "metadata": {},
   "outputs": [],
   "source": [
    "df['modo_envio'] = df['modo_envio'].map(dic_modo_envio)"
   ]
  },
  {
   "cell_type": "code",
   "execution_count": 15,
   "id": "a3862dee",
   "metadata": {},
   "outputs": [
    {
     "data": {
      "text/plain": [
       "0    7212\n",
       "1    1728\n",
       "2    1703\n",
       "Name: modo_envio, dtype: int64"
      ]
     },
     "execution_count": 15,
     "metadata": {},
     "output_type": "execute_result"
    }
   ],
   "source": [
    "df['modo_envio'].value_counts()"
   ]
  },
  {
   "cell_type": "code",
   "execution_count": 16,
   "id": "c20dee79",
   "metadata": {},
   "outputs": [
    {
     "data": {
      "text/html": [
       "<div>\n",
       "<style scoped>\n",
       "    .dataframe tbody tr th:only-of-type {\n",
       "        vertical-align: middle;\n",
       "    }\n",
       "\n",
       "    .dataframe tbody tr th {\n",
       "        vertical-align: top;\n",
       "    }\n",
       "\n",
       "    .dataframe thead th {\n",
       "        text-align: right;\n",
       "    }\n",
       "</style>\n",
       "<table border=\"1\" class=\"dataframe\">\n",
       "  <thead>\n",
       "    <tr style=\"text-align: right;\">\n",
       "      <th></th>\n",
       "      <th>ID</th>\n",
       "      <th>corredor_armazem</th>\n",
       "      <th>modo_envio</th>\n",
       "      <th>numero_chamadas_cliente</th>\n",
       "      <th>avaliacao_cliente</th>\n",
       "      <th>custo_produto</th>\n",
       "      <th>compras_anteriores</th>\n",
       "      <th>prioridade_produto</th>\n",
       "      <th>genero</th>\n",
       "      <th>desconto</th>\n",
       "      <th>peso_gramas</th>\n",
       "      <th>entregue_no_prazo</th>\n",
       "      <th>performance_prioridade_envio</th>\n",
       "      <th>performance_modo_envio</th>\n",
       "      <th>faixa_desconto</th>\n",
       "      <th>performance_faixa_desconto</th>\n",
       "    </tr>\n",
       "  </thead>\n",
       "  <tbody>\n",
       "    <tr>\n",
       "      <th>0</th>\n",
       "      <td>1</td>\n",
       "      <td>D</td>\n",
       "      <td>1</td>\n",
       "      <td>4</td>\n",
       "      <td>2</td>\n",
       "      <td>177</td>\n",
       "      <td>3</td>\n",
       "      <td>1</td>\n",
       "      <td>F</td>\n",
       "      <td>44</td>\n",
       "      <td>1233</td>\n",
       "      <td>1</td>\n",
       "      <td>Não Houve Atraso</td>\n",
       "      <td>Não Houve Atraso</td>\n",
       "      <td>Desconto Acima da Media</td>\n",
       "      <td>Entrega no Prazo com Desconto Acima da Media</td>\n",
       "    </tr>\n",
       "    <tr>\n",
       "      <th>1</th>\n",
       "      <td>2</td>\n",
       "      <td>F</td>\n",
       "      <td>1</td>\n",
       "      <td>4</td>\n",
       "      <td>5</td>\n",
       "      <td>216</td>\n",
       "      <td>2</td>\n",
       "      <td>1</td>\n",
       "      <td>M</td>\n",
       "      <td>59</td>\n",
       "      <td>3088</td>\n",
       "      <td>1</td>\n",
       "      <td>Não Houve Atraso</td>\n",
       "      <td>Não Houve Atraso</td>\n",
       "      <td>Desconto Acima da Media</td>\n",
       "      <td>Entrega no Prazo com Desconto Acima da Media</td>\n",
       "    </tr>\n",
       "    <tr>\n",
       "      <th>2</th>\n",
       "      <td>3</td>\n",
       "      <td>A</td>\n",
       "      <td>1</td>\n",
       "      <td>2</td>\n",
       "      <td>2</td>\n",
       "      <td>183</td>\n",
       "      <td>4</td>\n",
       "      <td>1</td>\n",
       "      <td>M</td>\n",
       "      <td>48</td>\n",
       "      <td>3374</td>\n",
       "      <td>1</td>\n",
       "      <td>Não Houve Atraso</td>\n",
       "      <td>Não Houve Atraso</td>\n",
       "      <td>Desconto Acima da Media</td>\n",
       "      <td>Entrega no Prazo com Desconto Acima da Media</td>\n",
       "    </tr>\n",
       "    <tr>\n",
       "      <th>3</th>\n",
       "      <td>4</td>\n",
       "      <td>B</td>\n",
       "      <td>1</td>\n",
       "      <td>3</td>\n",
       "      <td>3</td>\n",
       "      <td>176</td>\n",
       "      <td>4</td>\n",
       "      <td>2</td>\n",
       "      <td>M</td>\n",
       "      <td>10</td>\n",
       "      <td>1177</td>\n",
       "      <td>1</td>\n",
       "      <td>Não Houve Atraso</td>\n",
       "      <td>Não Houve Atraso</td>\n",
       "      <td>Desconto Abaixo da Media</td>\n",
       "      <td>Entrega no Prazo com Desconto Abaixo da Media</td>\n",
       "    </tr>\n",
       "    <tr>\n",
       "      <th>4</th>\n",
       "      <td>5</td>\n",
       "      <td>C</td>\n",
       "      <td>1</td>\n",
       "      <td>2</td>\n",
       "      <td>2</td>\n",
       "      <td>184</td>\n",
       "      <td>3</td>\n",
       "      <td>2</td>\n",
       "      <td>F</td>\n",
       "      <td>46</td>\n",
       "      <td>2484</td>\n",
       "      <td>1</td>\n",
       "      <td>Não Houve Atraso</td>\n",
       "      <td>Não Houve Atraso</td>\n",
       "      <td>Desconto Acima da Media</td>\n",
       "      <td>Entrega no Prazo com Desconto Acima da Media</td>\n",
       "    </tr>\n",
       "  </tbody>\n",
       "</table>\n",
       "</div>"
      ],
      "text/plain": [
       "   ID corredor_armazem  modo_envio  numero_chamadas_cliente  \\\n",
       "0   1                D           1                        4   \n",
       "1   2                F           1                        4   \n",
       "2   3                A           1                        2   \n",
       "3   4                B           1                        3   \n",
       "4   5                C           1                        2   \n",
       "\n",
       "   avaliacao_cliente  custo_produto  compras_anteriores  prioridade_produto  \\\n",
       "0                  2            177                   3                   1   \n",
       "1                  5            216                   2                   1   \n",
       "2                  2            183                   4                   1   \n",
       "3                  3            176                   4                   2   \n",
       "4                  2            184                   3                   2   \n",
       "\n",
       "  genero  desconto  peso_gramas  entregue_no_prazo  \\\n",
       "0      F        44         1233                  1   \n",
       "1      M        59         3088                  1   \n",
       "2      M        48         3374                  1   \n",
       "3      M        10         1177                  1   \n",
       "4      F        46         2484                  1   \n",
       "\n",
       "  performance_prioridade_envio performance_modo_envio  \\\n",
       "0             Não Houve Atraso       Não Houve Atraso   \n",
       "1             Não Houve Atraso       Não Houve Atraso   \n",
       "2             Não Houve Atraso       Não Houve Atraso   \n",
       "3             Não Houve Atraso       Não Houve Atraso   \n",
       "4             Não Houve Atraso       Não Houve Atraso   \n",
       "\n",
       "             faixa_desconto                     performance_faixa_desconto  \n",
       "0   Desconto Acima da Media   Entrega no Prazo com Desconto Acima da Media  \n",
       "1   Desconto Acima da Media   Entrega no Prazo com Desconto Acima da Media  \n",
       "2   Desconto Acima da Media   Entrega no Prazo com Desconto Acima da Media  \n",
       "3  Desconto Abaixo da Media  Entrega no Prazo com Desconto Abaixo da Media  \n",
       "4   Desconto Acima da Media   Entrega no Prazo com Desconto Acima da Media  "
      ]
     },
     "execution_count": 16,
     "metadata": {},
     "output_type": "execute_result"
    }
   ],
   "source": [
    "df.head()"
   ]
  },
  {
   "cell_type": "markdown",
   "id": "d0a5011f",
   "metadata": {},
   "source": [
    "### Método 2"
   ]
  },
  {
   "cell_type": "code",
   "execution_count": 17,
   "id": "3ccf7272",
   "metadata": {},
   "outputs": [
    {
     "data": {
      "text/plain": [
       "F    5357\n",
       "M    5286\n",
       "Name: genero, dtype: int64"
      ]
     },
     "execution_count": 17,
     "metadata": {},
     "output_type": "execute_result"
    }
   ],
   "source": [
    "#Variável categórica nominal\n",
    "df['genero'].value_counts()"
   ]
  },
  {
   "cell_type": "code",
   "execution_count": 18,
   "id": "1abbd161",
   "metadata": {},
   "outputs": [],
   "source": [
    "le = LabelEncoder()"
   ]
  },
  {
   "cell_type": "code",
   "execution_count": 19,
   "id": "32249f0a",
   "metadata": {},
   "outputs": [
    {
     "data": {
      "text/plain": [
       "LabelEncoder()"
      ]
     },
     "execution_count": 19,
     "metadata": {},
     "output_type": "execute_result"
    }
   ],
   "source": [
    "#Treina o objeto (normalmente feito apenas com dados de treino, mas, como neste caso não temos um modelo de Machine Learning, faremos com todos)\n",
    "le.fit(df['genero'])"
   ]
  },
  {
   "cell_type": "code",
   "execution_count": 20,
   "id": "8dac41ca",
   "metadata": {},
   "outputs": [
    {
     "data": {
      "text/plain": [
       "['F', 'M']"
      ]
     },
     "execution_count": 20,
     "metadata": {},
     "output_type": "execute_result"
    }
   ],
   "source": [
    "list(le.classes_)"
   ]
  },
  {
   "cell_type": "code",
   "execution_count": 21,
   "id": "a214617e",
   "metadata": {},
   "outputs": [],
   "source": [
    "#Aplicamos o encoder treinado\n",
    "#Isso é aplicado a dados de treino, teste e também dados novos\n",
    "df['genero'] = le.transform(df['genero'])"
   ]
  },
  {
   "cell_type": "code",
   "execution_count": 22,
   "id": "f067aa37",
   "metadata": {},
   "outputs": [
    {
     "data": {
      "text/plain": [
       "0    5357\n",
       "1    5286\n",
       "Name: genero, dtype: int64"
      ]
     },
     "execution_count": 22,
     "metadata": {},
     "output_type": "execute_result"
    }
   ],
   "source": [
    "df['genero'].value_counts()"
   ]
  },
  {
   "cell_type": "markdown",
   "id": "69e39802",
   "metadata": {},
   "source": [
    "## One-Hot Encoding"
   ]
  },
  {
   "cell_type": "code",
   "execution_count": 23,
   "id": "41549bae",
   "metadata": {},
   "outputs": [
    {
     "data": {
      "text/plain": [
       "F    3539\n",
       "B    1778\n",
       "D    1777\n",
       "A    1777\n",
       "C    1772\n",
       "Name: corredor_armazem, dtype: int64"
      ]
     },
     "execution_count": 23,
     "metadata": {},
     "output_type": "execute_result"
    }
   ],
   "source": [
    "#Normalmente usado para variáveis categóricas nominais, por exemplo:\n",
    "df['corredor_armazem'].value_counts()"
   ]
  },
  {
   "cell_type": "code",
   "execution_count": 24,
   "id": "ac24968c",
   "metadata": {},
   "outputs": [
    {
     "data": {
      "text/plain": [
       "Não Houve Atraso       6282\n",
       "Atraso Tolerável       2134\n",
       "Atraso Problemático    1917\n",
       "Atraso Crítico          310\n",
       "Name: performance_prioridade_envio, dtype: int64"
      ]
     },
     "execution_count": 24,
     "metadata": {},
     "output_type": "execute_result"
    }
   ],
   "source": [
    "#Pode ser considerada ordinal, devido à hierarquia entre atrasos toleráveis, problemáticos e críticos.\n",
    "df['performance_prioridade_envio'].value_counts()"
   ]
  },
  {
   "cell_type": "code",
   "execution_count": 25,
   "id": "2fdb076d",
   "metadata": {},
   "outputs": [
    {
     "data": {
      "text/plain": [
       "Não Houve Atraso                               6282\n",
       "Atraso Tolerável na Entrega Por Navio          1453\n",
       "Atraso Problemático na Entrega Por Navio       1307\n",
       "Atraso Tolerável na Entrega Por Caminhao        350\n",
       "Atraso Tolerável na Entrega Por Aviao           331\n",
       "Atraso Problemático na Entrega Por Caminhao     310\n",
       "Atraso Problemático na Entrega Por Aviao        300\n",
       "Atraso Crítico na Entrega Por Navio             194\n",
       "Atraso Crítico na Entrega Por Aviao              65\n",
       "Atraso Crítico na Entrega Por Caminhao           51\n",
       "Name: performance_modo_envio, dtype: int64"
      ]
     },
     "execution_count": 25,
     "metadata": {},
     "output_type": "execute_result"
    }
   ],
   "source": [
    "#Pode ser considerada ordinal, devido à hierarquia entre atrasos toleráveis, problemáticos e críticos.\n",
    "df['performance_modo_envio'].value_counts()"
   ]
  },
  {
   "cell_type": "code",
   "execution_count": 26,
   "id": "fdf8c457",
   "metadata": {},
   "outputs": [
    {
     "data": {
      "text/plain": [
       "Desconto Abaixo da Media    8269\n",
       "Desconto Acima da Media     2374\n",
       "Name: faixa_desconto, dtype: int64"
      ]
     },
     "execution_count": 26,
     "metadata": {},
     "output_type": "execute_result"
    }
   ],
   "source": [
    "df['faixa_desconto'].value_counts()"
   ]
  },
  {
   "cell_type": "code",
   "execution_count": 27,
   "id": "d97c9300",
   "metadata": {},
   "outputs": [
    {
     "data": {
      "text/plain": [
       "Atraso na Entrega com Desconto Abaixo da Media    4361\n",
       "Entrega no Prazo com Desconto Abaixo da Media     3908\n",
       "Entrega no Prazo com Desconto Acima da Media      2374\n",
       "Name: performance_faixa_desconto, dtype: int64"
      ]
     },
     "execution_count": 27,
     "metadata": {},
     "output_type": "execute_result"
    }
   ],
   "source": [
    "df['performance_faixa_desconto'].value_counts()"
   ]
  },
  {
   "cell_type": "code",
   "execution_count": 28,
   "id": "6719fd56",
   "metadata": {},
   "outputs": [],
   "source": [
    "#Aplicando o One-Hot Encoding\n",
    "for cat in ['corredor_armazem',\n",
    "           'performance_prioridade_envio',\n",
    "           'performance_modo_envio',\n",
    "           'faixa_desconto',\n",
    "           'performance_faixa_desconto']:\n",
    "    onehots = pd.get_dummies(df[cat], prefix = cat)\n",
    "    df = df.join(onehots)"
   ]
  },
  {
   "cell_type": "code",
   "execution_count": 29,
   "id": "4b7125c6",
   "metadata": {},
   "outputs": [
    {
     "data": {
      "text/plain": [
       "Index(['ID', 'corredor_armazem', 'modo_envio', 'numero_chamadas_cliente',\n",
       "       'avaliacao_cliente', 'custo_produto', 'compras_anteriores',\n",
       "       'prioridade_produto', 'genero', 'desconto', 'peso_gramas',\n",
       "       'entregue_no_prazo', 'performance_prioridade_envio',\n",
       "       'performance_modo_envio', 'faixa_desconto',\n",
       "       'performance_faixa_desconto', 'corredor_armazem_A',\n",
       "       'corredor_armazem_B', 'corredor_armazem_C', 'corredor_armazem_D',\n",
       "       'corredor_armazem_F', 'performance_prioridade_envio_Atraso Crítico',\n",
       "       'performance_prioridade_envio_Atraso Problemático',\n",
       "       'performance_prioridade_envio_Atraso Tolerável',\n",
       "       'performance_prioridade_envio_Não Houve Atraso',\n",
       "       'performance_modo_envio_Atraso Crítico na Entrega Por Aviao',\n",
       "       'performance_modo_envio_Atraso Crítico na Entrega Por Caminhao',\n",
       "       'performance_modo_envio_Atraso Crítico na Entrega Por Navio',\n",
       "       'performance_modo_envio_Atraso Problemático na Entrega Por Aviao',\n",
       "       'performance_modo_envio_Atraso Problemático na Entrega Por Caminhao',\n",
       "       'performance_modo_envio_Atraso Problemático na Entrega Por Navio',\n",
       "       'performance_modo_envio_Atraso Tolerável na Entrega Por Aviao',\n",
       "       'performance_modo_envio_Atraso Tolerável na Entrega Por Caminhao',\n",
       "       'performance_modo_envio_Atraso Tolerável na Entrega Por Navio',\n",
       "       'performance_modo_envio_Não Houve Atraso',\n",
       "       'faixa_desconto_Desconto Abaixo da Media',\n",
       "       'faixa_desconto_Desconto Acima da Media',\n",
       "       'performance_faixa_desconto_Atraso na Entrega com Desconto Abaixo da Media',\n",
       "       'performance_faixa_desconto_Entrega no Prazo com Desconto Abaixo da Media',\n",
       "       'performance_faixa_desconto_Entrega no Prazo com Desconto Acima da Media'],\n",
       "      dtype='object')"
      ]
     },
     "execution_count": 29,
     "metadata": {},
     "output_type": "execute_result"
    }
   ],
   "source": [
    "df.columns"
   ]
  },
  {
   "cell_type": "code",
   "execution_count": 30,
   "id": "11a74fae",
   "metadata": {},
   "outputs": [
    {
     "data": {
      "text/html": [
       "<div>\n",
       "<style scoped>\n",
       "    .dataframe tbody tr th:only-of-type {\n",
       "        vertical-align: middle;\n",
       "    }\n",
       "\n",
       "    .dataframe tbody tr th {\n",
       "        vertical-align: top;\n",
       "    }\n",
       "\n",
       "    .dataframe thead th {\n",
       "        text-align: right;\n",
       "    }\n",
       "</style>\n",
       "<table border=\"1\" class=\"dataframe\">\n",
       "  <thead>\n",
       "    <tr style=\"text-align: right;\">\n",
       "      <th></th>\n",
       "      <th>ID</th>\n",
       "      <th>corredor_armazem</th>\n",
       "      <th>modo_envio</th>\n",
       "      <th>numero_chamadas_cliente</th>\n",
       "      <th>avaliacao_cliente</th>\n",
       "      <th>custo_produto</th>\n",
       "      <th>compras_anteriores</th>\n",
       "      <th>prioridade_produto</th>\n",
       "      <th>genero</th>\n",
       "      <th>desconto</th>\n",
       "      <th>...</th>\n",
       "      <th>performance_modo_envio_Atraso Problemático na Entrega Por Navio</th>\n",
       "      <th>performance_modo_envio_Atraso Tolerável na Entrega Por Aviao</th>\n",
       "      <th>performance_modo_envio_Atraso Tolerável na Entrega Por Caminhao</th>\n",
       "      <th>performance_modo_envio_Atraso Tolerável na Entrega Por Navio</th>\n",
       "      <th>performance_modo_envio_Não Houve Atraso</th>\n",
       "      <th>faixa_desconto_Desconto Abaixo da Media</th>\n",
       "      <th>faixa_desconto_Desconto Acima da Media</th>\n",
       "      <th>performance_faixa_desconto_Atraso na Entrega com Desconto Abaixo da Media</th>\n",
       "      <th>performance_faixa_desconto_Entrega no Prazo com Desconto Abaixo da Media</th>\n",
       "      <th>performance_faixa_desconto_Entrega no Prazo com Desconto Acima da Media</th>\n",
       "    </tr>\n",
       "  </thead>\n",
       "  <tbody>\n",
       "    <tr>\n",
       "      <th>0</th>\n",
       "      <td>1</td>\n",
       "      <td>D</td>\n",
       "      <td>1</td>\n",
       "      <td>4</td>\n",
       "      <td>2</td>\n",
       "      <td>177</td>\n",
       "      <td>3</td>\n",
       "      <td>1</td>\n",
       "      <td>0</td>\n",
       "      <td>44</td>\n",
       "      <td>...</td>\n",
       "      <td>0</td>\n",
       "      <td>0</td>\n",
       "      <td>0</td>\n",
       "      <td>0</td>\n",
       "      <td>1</td>\n",
       "      <td>0</td>\n",
       "      <td>1</td>\n",
       "      <td>0</td>\n",
       "      <td>0</td>\n",
       "      <td>1</td>\n",
       "    </tr>\n",
       "    <tr>\n",
       "      <th>1</th>\n",
       "      <td>2</td>\n",
       "      <td>F</td>\n",
       "      <td>1</td>\n",
       "      <td>4</td>\n",
       "      <td>5</td>\n",
       "      <td>216</td>\n",
       "      <td>2</td>\n",
       "      <td>1</td>\n",
       "      <td>1</td>\n",
       "      <td>59</td>\n",
       "      <td>...</td>\n",
       "      <td>0</td>\n",
       "      <td>0</td>\n",
       "      <td>0</td>\n",
       "      <td>0</td>\n",
       "      <td>1</td>\n",
       "      <td>0</td>\n",
       "      <td>1</td>\n",
       "      <td>0</td>\n",
       "      <td>0</td>\n",
       "      <td>1</td>\n",
       "    </tr>\n",
       "    <tr>\n",
       "      <th>2</th>\n",
       "      <td>3</td>\n",
       "      <td>A</td>\n",
       "      <td>1</td>\n",
       "      <td>2</td>\n",
       "      <td>2</td>\n",
       "      <td>183</td>\n",
       "      <td>4</td>\n",
       "      <td>1</td>\n",
       "      <td>1</td>\n",
       "      <td>48</td>\n",
       "      <td>...</td>\n",
       "      <td>0</td>\n",
       "      <td>0</td>\n",
       "      <td>0</td>\n",
       "      <td>0</td>\n",
       "      <td>1</td>\n",
       "      <td>0</td>\n",
       "      <td>1</td>\n",
       "      <td>0</td>\n",
       "      <td>0</td>\n",
       "      <td>1</td>\n",
       "    </tr>\n",
       "    <tr>\n",
       "      <th>3</th>\n",
       "      <td>4</td>\n",
       "      <td>B</td>\n",
       "      <td>1</td>\n",
       "      <td>3</td>\n",
       "      <td>3</td>\n",
       "      <td>176</td>\n",
       "      <td>4</td>\n",
       "      <td>2</td>\n",
       "      <td>1</td>\n",
       "      <td>10</td>\n",
       "      <td>...</td>\n",
       "      <td>0</td>\n",
       "      <td>0</td>\n",
       "      <td>0</td>\n",
       "      <td>0</td>\n",
       "      <td>1</td>\n",
       "      <td>1</td>\n",
       "      <td>0</td>\n",
       "      <td>0</td>\n",
       "      <td>1</td>\n",
       "      <td>0</td>\n",
       "    </tr>\n",
       "    <tr>\n",
       "      <th>4</th>\n",
       "      <td>5</td>\n",
       "      <td>C</td>\n",
       "      <td>1</td>\n",
       "      <td>2</td>\n",
       "      <td>2</td>\n",
       "      <td>184</td>\n",
       "      <td>3</td>\n",
       "      <td>2</td>\n",
       "      <td>0</td>\n",
       "      <td>46</td>\n",
       "      <td>...</td>\n",
       "      <td>0</td>\n",
       "      <td>0</td>\n",
       "      <td>0</td>\n",
       "      <td>0</td>\n",
       "      <td>1</td>\n",
       "      <td>0</td>\n",
       "      <td>1</td>\n",
       "      <td>0</td>\n",
       "      <td>0</td>\n",
       "      <td>1</td>\n",
       "    </tr>\n",
       "  </tbody>\n",
       "</table>\n",
       "<p>5 rows × 40 columns</p>\n",
       "</div>"
      ],
      "text/plain": [
       "   ID corredor_armazem  modo_envio  numero_chamadas_cliente  \\\n",
       "0   1                D           1                        4   \n",
       "1   2                F           1                        4   \n",
       "2   3                A           1                        2   \n",
       "3   4                B           1                        3   \n",
       "4   5                C           1                        2   \n",
       "\n",
       "   avaliacao_cliente  custo_produto  compras_anteriores  prioridade_produto  \\\n",
       "0                  2            177                   3                   1   \n",
       "1                  5            216                   2                   1   \n",
       "2                  2            183                   4                   1   \n",
       "3                  3            176                   4                   2   \n",
       "4                  2            184                   3                   2   \n",
       "\n",
       "   genero  desconto  ...  \\\n",
       "0       0        44  ...   \n",
       "1       1        59  ...   \n",
       "2       1        48  ...   \n",
       "3       1        10  ...   \n",
       "4       0        46  ...   \n",
       "\n",
       "   performance_modo_envio_Atraso Problemático na Entrega Por Navio  \\\n",
       "0                                                  0                 \n",
       "1                                                  0                 \n",
       "2                                                  0                 \n",
       "3                                                  0                 \n",
       "4                                                  0                 \n",
       "\n",
       "   performance_modo_envio_Atraso Tolerável na Entrega Por Aviao  \\\n",
       "0                                                  0              \n",
       "1                                                  0              \n",
       "2                                                  0              \n",
       "3                                                  0              \n",
       "4                                                  0              \n",
       "\n",
       "  performance_modo_envio_Atraso Tolerável na Entrega Por Caminhao  \\\n",
       "0                                                  0                \n",
       "1                                                  0                \n",
       "2                                                  0                \n",
       "3                                                  0                \n",
       "4                                                  0                \n",
       "\n",
       "  performance_modo_envio_Atraso Tolerável na Entrega Por Navio  \\\n",
       "0                                                  0             \n",
       "1                                                  0             \n",
       "2                                                  0             \n",
       "3                                                  0             \n",
       "4                                                  0             \n",
       "\n",
       "  performance_modo_envio_Não Houve Atraso  \\\n",
       "0                                       1   \n",
       "1                                       1   \n",
       "2                                       1   \n",
       "3                                       1   \n",
       "4                                       1   \n",
       "\n",
       "  faixa_desconto_Desconto Abaixo da Media  \\\n",
       "0                                       0   \n",
       "1                                       0   \n",
       "2                                       0   \n",
       "3                                       1   \n",
       "4                                       0   \n",
       "\n",
       "   faixa_desconto_Desconto Acima da Media  \\\n",
       "0                                       1   \n",
       "1                                       1   \n",
       "2                                       1   \n",
       "3                                       0   \n",
       "4                                       1   \n",
       "\n",
       "   performance_faixa_desconto_Atraso na Entrega com Desconto Abaixo da Media  \\\n",
       "0                                                  0                           \n",
       "1                                                  0                           \n",
       "2                                                  0                           \n",
       "3                                                  0                           \n",
       "4                                                  0                           \n",
       "\n",
       "   performance_faixa_desconto_Entrega no Prazo com Desconto Abaixo da Media  \\\n",
       "0                                                  0                          \n",
       "1                                                  0                          \n",
       "2                                                  0                          \n",
       "3                                                  1                          \n",
       "4                                                  0                          \n",
       "\n",
       "   performance_faixa_desconto_Entrega no Prazo com Desconto Acima da Media  \n",
       "0                                                  1                        \n",
       "1                                                  1                        \n",
       "2                                                  1                        \n",
       "3                                                  0                        \n",
       "4                                                  1                        \n",
       "\n",
       "[5 rows x 40 columns]"
      ]
     },
     "execution_count": 30,
     "metadata": {},
     "output_type": "execute_result"
    }
   ],
   "source": [
    "df.head()"
   ]
  },
  {
   "cell_type": "code",
   "execution_count": 31,
   "id": "07b61619",
   "metadata": {},
   "outputs": [],
   "source": [
    "df = df.drop(columns = ['corredor_armazem',\n",
    "           'performance_prioridade_envio',\n",
    "           'performance_modo_envio',\n",
    "           'faixa_desconto',\n",
    "           'performance_faixa_desconto'])"
   ]
  },
  {
   "cell_type": "code",
   "execution_count": 32,
   "id": "fd07a04b",
   "metadata": {},
   "outputs": [],
   "source": [
    "df = df.drop(columns = ['ID'])"
   ]
  },
  {
   "cell_type": "code",
   "execution_count": 33,
   "id": "66f0c1c5",
   "metadata": {},
   "outputs": [
    {
     "data": {
      "text/html": [
       "<div>\n",
       "<style scoped>\n",
       "    .dataframe tbody tr th:only-of-type {\n",
       "        vertical-align: middle;\n",
       "    }\n",
       "\n",
       "    .dataframe tbody tr th {\n",
       "        vertical-align: top;\n",
       "    }\n",
       "\n",
       "    .dataframe thead th {\n",
       "        text-align: right;\n",
       "    }\n",
       "</style>\n",
       "<table border=\"1\" class=\"dataframe\">\n",
       "  <thead>\n",
       "    <tr style=\"text-align: right;\">\n",
       "      <th></th>\n",
       "      <th>modo_envio</th>\n",
       "      <th>numero_chamadas_cliente</th>\n",
       "      <th>avaliacao_cliente</th>\n",
       "      <th>custo_produto</th>\n",
       "      <th>compras_anteriores</th>\n",
       "      <th>prioridade_produto</th>\n",
       "      <th>genero</th>\n",
       "      <th>desconto</th>\n",
       "      <th>peso_gramas</th>\n",
       "      <th>entregue_no_prazo</th>\n",
       "      <th>...</th>\n",
       "      <th>performance_modo_envio_Atraso Problemático na Entrega Por Navio</th>\n",
       "      <th>performance_modo_envio_Atraso Tolerável na Entrega Por Aviao</th>\n",
       "      <th>performance_modo_envio_Atraso Tolerável na Entrega Por Caminhao</th>\n",
       "      <th>performance_modo_envio_Atraso Tolerável na Entrega Por Navio</th>\n",
       "      <th>performance_modo_envio_Não Houve Atraso</th>\n",
       "      <th>faixa_desconto_Desconto Abaixo da Media</th>\n",
       "      <th>faixa_desconto_Desconto Acima da Media</th>\n",
       "      <th>performance_faixa_desconto_Atraso na Entrega com Desconto Abaixo da Media</th>\n",
       "      <th>performance_faixa_desconto_Entrega no Prazo com Desconto Abaixo da Media</th>\n",
       "      <th>performance_faixa_desconto_Entrega no Prazo com Desconto Acima da Media</th>\n",
       "    </tr>\n",
       "  </thead>\n",
       "  <tbody>\n",
       "    <tr>\n",
       "      <th>0</th>\n",
       "      <td>1</td>\n",
       "      <td>4</td>\n",
       "      <td>2</td>\n",
       "      <td>177</td>\n",
       "      <td>3</td>\n",
       "      <td>1</td>\n",
       "      <td>0</td>\n",
       "      <td>44</td>\n",
       "      <td>1233</td>\n",
       "      <td>1</td>\n",
       "      <td>...</td>\n",
       "      <td>0</td>\n",
       "      <td>0</td>\n",
       "      <td>0</td>\n",
       "      <td>0</td>\n",
       "      <td>1</td>\n",
       "      <td>0</td>\n",
       "      <td>1</td>\n",
       "      <td>0</td>\n",
       "      <td>0</td>\n",
       "      <td>1</td>\n",
       "    </tr>\n",
       "    <tr>\n",
       "      <th>1</th>\n",
       "      <td>1</td>\n",
       "      <td>4</td>\n",
       "      <td>5</td>\n",
       "      <td>216</td>\n",
       "      <td>2</td>\n",
       "      <td>1</td>\n",
       "      <td>1</td>\n",
       "      <td>59</td>\n",
       "      <td>3088</td>\n",
       "      <td>1</td>\n",
       "      <td>...</td>\n",
       "      <td>0</td>\n",
       "      <td>0</td>\n",
       "      <td>0</td>\n",
       "      <td>0</td>\n",
       "      <td>1</td>\n",
       "      <td>0</td>\n",
       "      <td>1</td>\n",
       "      <td>0</td>\n",
       "      <td>0</td>\n",
       "      <td>1</td>\n",
       "    </tr>\n",
       "    <tr>\n",
       "      <th>2</th>\n",
       "      <td>1</td>\n",
       "      <td>2</td>\n",
       "      <td>2</td>\n",
       "      <td>183</td>\n",
       "      <td>4</td>\n",
       "      <td>1</td>\n",
       "      <td>1</td>\n",
       "      <td>48</td>\n",
       "      <td>3374</td>\n",
       "      <td>1</td>\n",
       "      <td>...</td>\n",
       "      <td>0</td>\n",
       "      <td>0</td>\n",
       "      <td>0</td>\n",
       "      <td>0</td>\n",
       "      <td>1</td>\n",
       "      <td>0</td>\n",
       "      <td>1</td>\n",
       "      <td>0</td>\n",
       "      <td>0</td>\n",
       "      <td>1</td>\n",
       "    </tr>\n",
       "    <tr>\n",
       "      <th>3</th>\n",
       "      <td>1</td>\n",
       "      <td>3</td>\n",
       "      <td>3</td>\n",
       "      <td>176</td>\n",
       "      <td>4</td>\n",
       "      <td>2</td>\n",
       "      <td>1</td>\n",
       "      <td>10</td>\n",
       "      <td>1177</td>\n",
       "      <td>1</td>\n",
       "      <td>...</td>\n",
       "      <td>0</td>\n",
       "      <td>0</td>\n",
       "      <td>0</td>\n",
       "      <td>0</td>\n",
       "      <td>1</td>\n",
       "      <td>1</td>\n",
       "      <td>0</td>\n",
       "      <td>0</td>\n",
       "      <td>1</td>\n",
       "      <td>0</td>\n",
       "    </tr>\n",
       "    <tr>\n",
       "      <th>4</th>\n",
       "      <td>1</td>\n",
       "      <td>2</td>\n",
       "      <td>2</td>\n",
       "      <td>184</td>\n",
       "      <td>3</td>\n",
       "      <td>2</td>\n",
       "      <td>0</td>\n",
       "      <td>46</td>\n",
       "      <td>2484</td>\n",
       "      <td>1</td>\n",
       "      <td>...</td>\n",
       "      <td>0</td>\n",
       "      <td>0</td>\n",
       "      <td>0</td>\n",
       "      <td>0</td>\n",
       "      <td>1</td>\n",
       "      <td>0</td>\n",
       "      <td>1</td>\n",
       "      <td>0</td>\n",
       "      <td>0</td>\n",
       "      <td>1</td>\n",
       "    </tr>\n",
       "  </tbody>\n",
       "</table>\n",
       "<p>5 rows × 34 columns</p>\n",
       "</div>"
      ],
      "text/plain": [
       "   modo_envio  numero_chamadas_cliente  avaliacao_cliente  custo_produto  \\\n",
       "0           1                        4                  2            177   \n",
       "1           1                        4                  5            216   \n",
       "2           1                        2                  2            183   \n",
       "3           1                        3                  3            176   \n",
       "4           1                        2                  2            184   \n",
       "\n",
       "   compras_anteriores  prioridade_produto  genero  desconto  peso_gramas  \\\n",
       "0                   3                   1       0        44         1233   \n",
       "1                   2                   1       1        59         3088   \n",
       "2                   4                   1       1        48         3374   \n",
       "3                   4                   2       1        10         1177   \n",
       "4                   3                   2       0        46         2484   \n",
       "\n",
       "   entregue_no_prazo  ...  \\\n",
       "0                  1  ...   \n",
       "1                  1  ...   \n",
       "2                  1  ...   \n",
       "3                  1  ...   \n",
       "4                  1  ...   \n",
       "\n",
       "   performance_modo_envio_Atraso Problemático na Entrega Por Navio  \\\n",
       "0                                                  0                 \n",
       "1                                                  0                 \n",
       "2                                                  0                 \n",
       "3                                                  0                 \n",
       "4                                                  0                 \n",
       "\n",
       "   performance_modo_envio_Atraso Tolerável na Entrega Por Aviao  \\\n",
       "0                                                  0              \n",
       "1                                                  0              \n",
       "2                                                  0              \n",
       "3                                                  0              \n",
       "4                                                  0              \n",
       "\n",
       "   performance_modo_envio_Atraso Tolerável na Entrega Por Caminhao  \\\n",
       "0                                                  0                 \n",
       "1                                                  0                 \n",
       "2                                                  0                 \n",
       "3                                                  0                 \n",
       "4                                                  0                 \n",
       "\n",
       "   performance_modo_envio_Atraso Tolerável na Entrega Por Navio  \\\n",
       "0                                                  0              \n",
       "1                                                  0              \n",
       "2                                                  0              \n",
       "3                                                  0              \n",
       "4                                                  0              \n",
       "\n",
       "   performance_modo_envio_Não Houve Atraso  \\\n",
       "0                                        1   \n",
       "1                                        1   \n",
       "2                                        1   \n",
       "3                                        1   \n",
       "4                                        1   \n",
       "\n",
       "   faixa_desconto_Desconto Abaixo da Media  \\\n",
       "0                                        0   \n",
       "1                                        0   \n",
       "2                                        0   \n",
       "3                                        1   \n",
       "4                                        0   \n",
       "\n",
       "   faixa_desconto_Desconto Acima da Media  \\\n",
       "0                                       1   \n",
       "1                                       1   \n",
       "2                                       1   \n",
       "3                                       0   \n",
       "4                                       1   \n",
       "\n",
       "   performance_faixa_desconto_Atraso na Entrega com Desconto Abaixo da Media  \\\n",
       "0                                                  0                           \n",
       "1                                                  0                           \n",
       "2                                                  0                           \n",
       "3                                                  0                           \n",
       "4                                                  0                           \n",
       "\n",
       "   performance_faixa_desconto_Entrega no Prazo com Desconto Abaixo da Media  \\\n",
       "0                                                  0                          \n",
       "1                                                  0                          \n",
       "2                                                  0                          \n",
       "3                                                  1                          \n",
       "4                                                  0                          \n",
       "\n",
       "   performance_faixa_desconto_Entrega no Prazo com Desconto Acima da Media  \n",
       "0                                                  1                        \n",
       "1                                                  1                        \n",
       "2                                                  1                        \n",
       "3                                                  0                        \n",
       "4                                                  1                        \n",
       "\n",
       "[5 rows x 34 columns]"
      ]
     },
     "execution_count": 33,
     "metadata": {},
     "output_type": "execute_result"
    }
   ],
   "source": [
    "df.head()"
   ]
  },
  {
   "cell_type": "markdown",
   "id": "a4207479",
   "metadata": {},
   "source": [
    "## Feature Scaling"
   ]
  },
  {
   "cell_type": "markdown",
   "id": "e036a4bc",
   "metadata": {},
   "source": [
    "- O dimensionamento de recursos (Feature Scaling) consiste em transformar o valor dos recursos em uma faixa semelhante, para que os algoritmos de aprendizado de máquina se comportem melhor, resultando em modelos ideais.\n",
    "\n",
    "- Padronização e normalização são duas técnicas mais comuns para dimensionamento de recursos.\n",
    "\n",
    "- A normalização é transformar os valores dos recursos para que caiam dentro dos intervalos limitados (min e max).\n",
    "\n",
    "- A padronização é transformar os valores de recursos para cair em torno da média como 0 com desvio padrão como 1.\n",
    "\n",
    "- A padronização mantém informações úteis sobre valores discrepantes e torna o algoritmo menos sensível a eles em contraste com o dimensionamento mínimo-máximo.\n",
    "\n",
    "- A classe MinMaxScaler() de sklearn.preprocessing é usada para normalização de recursos.\n",
    "\n",
    "- A classe StandardScaler() de sklearn.preprocessing é usada para padronização de recursos."
   ]
  },
  {
   "cell_type": "markdown",
   "id": "c1d644dc",
   "metadata": {},
   "source": [
    "**ATENÇÃO**: No caso de normalizar o conjunto de dados de treinamento e teste, o estimador MinMaxScaler() terá o fit() no conjunto de dados de treinamento e o mesmo estimador será usado para transformar o conjunto de dados de treinamento e teste. O mesmo estimador também deve ser usado em novos dados ao fazer previsões com o modelo."
   ]
  },
  {
   "cell_type": "code",
   "execution_count": 34,
   "id": "b5cbe9d0",
   "metadata": {},
   "outputs": [
    {
     "data": {
      "text/plain": [
       "5393    5239\n",
       "8307    1626\n",
       "1476    1445\n",
       "3636    5001\n",
       "1447    1367\n",
       "Name: peso_gramas, dtype: int64"
      ]
     },
     "execution_count": 34,
     "metadata": {},
     "output_type": "execute_result"
    }
   ],
   "source": [
    "df['peso_gramas'].sample(5)"
   ]
  },
  {
   "cell_type": "code",
   "execution_count": 35,
   "id": "cacb12f7",
   "metadata": {},
   "outputs": [],
   "source": [
    "df['peso_gramas'] = MinMaxScaler().fit_transform(df['peso_gramas'].values.reshape(len(df),1))"
   ]
  },
  {
   "cell_type": "code",
   "execution_count": 36,
   "id": "97c0f29f",
   "metadata": {},
   "outputs": [
    {
     "data": {
      "text/plain": [
       "6875    0.041344\n",
       "8394    0.676114\n",
       "8649    0.047918\n",
       "4252    0.574434\n",
       "6470    0.449525\n",
       "Name: peso_gramas, dtype: float64"
      ]
     },
     "execution_count": 36,
     "metadata": {},
     "output_type": "execute_result"
    }
   ],
   "source": [
    "df['peso_gramas'].sample(5)"
   ]
  },
  {
   "cell_type": "code",
   "execution_count": 37,
   "id": "3d99a21f",
   "metadata": {},
   "outputs": [
    {
     "data": {
      "text/plain": [
       "8213    179\n",
       "9691    275\n",
       "3777    147\n",
       "8226    245\n",
       "1072    198\n",
       "Name: custo_produto, dtype: int64"
      ]
     },
     "execution_count": 37,
     "metadata": {},
     "output_type": "execute_result"
    }
   ],
   "source": [
    "df['custo_produto'].sample(5)"
   ]
  },
  {
   "cell_type": "code",
   "execution_count": 38,
   "id": "b33d6acc",
   "metadata": {},
   "outputs": [],
   "source": [
    "df['custo_produto'] = MinMaxScaler().fit_transform(df['custo_produto'].values.reshape(len(df),1))"
   ]
  },
  {
   "cell_type": "code",
   "execution_count": 39,
   "id": "9134b80e",
   "metadata": {},
   "outputs": [
    {
     "data": {
      "text/plain": [
       "848     0.443925\n",
       "5901    0.817757\n",
       "5872    0.369159\n",
       "1418    0.392523\n",
       "4909    0.752336\n",
       "Name: custo_produto, dtype: float64"
      ]
     },
     "execution_count": 39,
     "metadata": {},
     "output_type": "execute_result"
    }
   ],
   "source": [
    "df['custo_produto'].sample(5)"
   ]
  },
  {
   "cell_type": "markdown",
   "id": "f51c9fa0",
   "metadata": {},
   "source": [
    "**ATENÇÃO**: No caso de padronizar o conjunto de dados de treinamento e teste, o estimador StandardScaler() terá o fit() no conjunto de dados de treinamento e o mesmo estimador será usado para transformar o conjunto de dados de treinamento e teste. O mesmo estimador também deve ser usado em novos dados ao fazer previsões com o modelo."
   ]
  },
  {
   "cell_type": "code",
   "execution_count": 40,
   "id": "68276bef",
   "metadata": {},
   "outputs": [],
   "source": [
    "df['desconto'] = StandardScaler(). fit_transform(df['desconto'].values.reshape(len(df),1))"
   ]
  },
  {
   "cell_type": "code",
   "execution_count": 41,
   "id": "b3ab93db",
   "metadata": {},
   "outputs": [
    {
     "data": {
      "text/plain": [
       "8388   -0.368751\n",
       "7885   -0.368751\n",
       "3934   -0.502162\n",
       "6693   -0.235340\n",
       "2674    1.298887\n",
       "8090   -0.568868\n",
       "2797    2.032647\n",
       "2044    0.965359\n",
       "3099    1.298887\n",
       "7917   -0.635573\n",
       "Name: desconto, dtype: float64"
      ]
     },
     "execution_count": 41,
     "metadata": {},
     "output_type": "execute_result"
    }
   ],
   "source": [
    "df['desconto'].sample(10)"
   ]
  },
  {
   "cell_type": "code",
   "execution_count": 42,
   "id": "f49f4a75",
   "metadata": {},
   "outputs": [],
   "source": [
    "df['numero_chamadas_cliente'] = StandardScaler(). fit_transform(df['numero_chamadas_cliente'].values.reshape(len(df),1))"
   ]
  },
  {
   "cell_type": "code",
   "execution_count": 43,
   "id": "e510b5aa",
   "metadata": {},
   "outputs": [
    {
     "data": {
      "text/plain": [
       "9086     1.689011\n",
       "9436     1.689011\n",
       "7628    -0.057348\n",
       "5841     1.689011\n",
       "1413    -0.930527\n",
       "10761    0.815832\n",
       "9051    -1.803706\n",
       "1502    -0.930527\n",
       "9463     0.815832\n",
       "1296    -0.930527\n",
       "Name: numero_chamadas_cliente, dtype: float64"
      ]
     },
     "execution_count": 43,
     "metadata": {},
     "output_type": "execute_result"
    }
   ],
   "source": [
    "df['numero_chamadas_cliente'].sample(10)"
   ]
  },
  {
   "cell_type": "code",
   "execution_count": 44,
   "id": "1d9c65ba",
   "metadata": {},
   "outputs": [],
   "source": [
    "df['avaliacao_cliente'] = StandardScaler(). fit_transform(df['avaliacao_cliente'].values.reshape(len(df),1))"
   ]
  },
  {
   "cell_type": "code",
   "execution_count": 45,
   "id": "8093d457",
   "metadata": {},
   "outputs": [
    {
     "data": {
      "text/plain": [
       "7295     0.007718\n",
       "1576    -1.408469\n",
       "10592    1.423904\n",
       "2225    -1.408469\n",
       "480      0.715811\n",
       "1922     1.423904\n",
       "10384    0.715811\n",
       "10138   -0.700376\n",
       "4723     0.007718\n",
       "3301     1.423904\n",
       "Name: avaliacao_cliente, dtype: float64"
      ]
     },
     "execution_count": 45,
     "metadata": {},
     "output_type": "execute_result"
    }
   ],
   "source": [
    "df['avaliacao_cliente'].sample(10)"
   ]
  },
  {
   "cell_type": "code",
   "execution_count": 46,
   "id": "0edd3e95",
   "metadata": {},
   "outputs": [],
   "source": [
    "df['compras_anteriores'] = StandardScaler(). fit_transform(df['compras_anteriores'].values.reshape(len(df),1))"
   ]
  },
  {
   "cell_type": "code",
   "execution_count": 47,
   "id": "cd885a02",
   "metadata": {},
   "outputs": [
    {
     "data": {
      "text/plain": [
       "8632     0.416201\n",
       "6531     2.743911\n",
       "10587   -0.359702\n",
       "28       0.416201\n",
       "2269    -0.359702\n",
       "2604    -0.359702\n",
       "2227    -0.359702\n",
       "7913    -1.135605\n",
       "4137     1.192105\n",
       "10030   -0.359702\n",
       "Name: compras_anteriores, dtype: float64"
      ]
     },
     "execution_count": 47,
     "metadata": {},
     "output_type": "execute_result"
    }
   ],
   "source": [
    "df['compras_anteriores'].sample(10)"
   ]
  },
  {
   "cell_type": "code",
   "execution_count": 48,
   "id": "857854d1",
   "metadata": {},
   "outputs": [
    {
     "data": {
      "text/html": [
       "<div>\n",
       "<style scoped>\n",
       "    .dataframe tbody tr th:only-of-type {\n",
       "        vertical-align: middle;\n",
       "    }\n",
       "\n",
       "    .dataframe tbody tr th {\n",
       "        vertical-align: top;\n",
       "    }\n",
       "\n",
       "    .dataframe thead th {\n",
       "        text-align: right;\n",
       "    }\n",
       "</style>\n",
       "<table border=\"1\" class=\"dataframe\">\n",
       "  <thead>\n",
       "    <tr style=\"text-align: right;\">\n",
       "      <th></th>\n",
       "      <th>modo_envio</th>\n",
       "      <th>numero_chamadas_cliente</th>\n",
       "      <th>avaliacao_cliente</th>\n",
       "      <th>custo_produto</th>\n",
       "      <th>compras_anteriores</th>\n",
       "      <th>prioridade_produto</th>\n",
       "      <th>genero</th>\n",
       "      <th>desconto</th>\n",
       "      <th>peso_gramas</th>\n",
       "      <th>entregue_no_prazo</th>\n",
       "      <th>...</th>\n",
       "      <th>performance_modo_envio_Atraso Problemático na Entrega Por Navio</th>\n",
       "      <th>performance_modo_envio_Atraso Tolerável na Entrega Por Aviao</th>\n",
       "      <th>performance_modo_envio_Atraso Tolerável na Entrega Por Caminhao</th>\n",
       "      <th>performance_modo_envio_Atraso Tolerável na Entrega Por Navio</th>\n",
       "      <th>performance_modo_envio_Não Houve Atraso</th>\n",
       "      <th>faixa_desconto_Desconto Abaixo da Media</th>\n",
       "      <th>faixa_desconto_Desconto Acima da Media</th>\n",
       "      <th>performance_faixa_desconto_Atraso na Entrega com Desconto Abaixo da Media</th>\n",
       "      <th>performance_faixa_desconto_Entrega no Prazo com Desconto Abaixo da Media</th>\n",
       "      <th>performance_faixa_desconto_Entrega no Prazo com Desconto Acima da Media</th>\n",
       "    </tr>\n",
       "  </thead>\n",
       "  <tbody>\n",
       "    <tr>\n",
       "      <th>0</th>\n",
       "      <td>1</td>\n",
       "      <td>-0.057348</td>\n",
       "      <td>-0.700376</td>\n",
       "      <td>0.378505</td>\n",
       "      <td>-0.359702</td>\n",
       "      <td>1</td>\n",
       "      <td>0</td>\n",
       "      <td>2.099353</td>\n",
       "      <td>0.033893</td>\n",
       "      <td>1</td>\n",
       "      <td>...</td>\n",
       "      <td>0</td>\n",
       "      <td>0</td>\n",
       "      <td>0</td>\n",
       "      <td>0</td>\n",
       "      <td>1</td>\n",
       "      <td>0</td>\n",
       "      <td>1</td>\n",
       "      <td>0</td>\n",
       "      <td>0</td>\n",
       "      <td>1</td>\n",
       "    </tr>\n",
       "    <tr>\n",
       "      <th>1</th>\n",
       "      <td>1</td>\n",
       "      <td>-0.057348</td>\n",
       "      <td>1.423904</td>\n",
       "      <td>0.560748</td>\n",
       "      <td>-1.135605</td>\n",
       "      <td>1</td>\n",
       "      <td>1</td>\n",
       "      <td>3.099936</td>\n",
       "      <td>0.304894</td>\n",
       "      <td>1</td>\n",
       "      <td>...</td>\n",
       "      <td>0</td>\n",
       "      <td>0</td>\n",
       "      <td>0</td>\n",
       "      <td>0</td>\n",
       "      <td>1</td>\n",
       "      <td>0</td>\n",
       "      <td>1</td>\n",
       "      <td>0</td>\n",
       "      <td>0</td>\n",
       "      <td>1</td>\n",
       "    </tr>\n",
       "    <tr>\n",
       "      <th>2</th>\n",
       "      <td>1</td>\n",
       "      <td>-1.803706</td>\n",
       "      <td>-0.700376</td>\n",
       "      <td>0.406542</td>\n",
       "      <td>0.416201</td>\n",
       "      <td>1</td>\n",
       "      <td>1</td>\n",
       "      <td>2.366175</td>\n",
       "      <td>0.346676</td>\n",
       "      <td>1</td>\n",
       "      <td>...</td>\n",
       "      <td>0</td>\n",
       "      <td>0</td>\n",
       "      <td>0</td>\n",
       "      <td>0</td>\n",
       "      <td>1</td>\n",
       "      <td>0</td>\n",
       "      <td>1</td>\n",
       "      <td>0</td>\n",
       "      <td>0</td>\n",
       "      <td>1</td>\n",
       "    </tr>\n",
       "    <tr>\n",
       "      <th>3</th>\n",
       "      <td>1</td>\n",
       "      <td>-0.930527</td>\n",
       "      <td>0.007718</td>\n",
       "      <td>0.373832</td>\n",
       "      <td>0.416201</td>\n",
       "      <td>2</td>\n",
       "      <td>1</td>\n",
       "      <td>-0.168635</td>\n",
       "      <td>0.025712</td>\n",
       "      <td>1</td>\n",
       "      <td>...</td>\n",
       "      <td>0</td>\n",
       "      <td>0</td>\n",
       "      <td>0</td>\n",
       "      <td>0</td>\n",
       "      <td>1</td>\n",
       "      <td>1</td>\n",
       "      <td>0</td>\n",
       "      <td>0</td>\n",
       "      <td>1</td>\n",
       "      <td>0</td>\n",
       "    </tr>\n",
       "    <tr>\n",
       "      <th>4</th>\n",
       "      <td>1</td>\n",
       "      <td>-1.803706</td>\n",
       "      <td>-0.700376</td>\n",
       "      <td>0.411215</td>\n",
       "      <td>-0.359702</td>\n",
       "      <td>2</td>\n",
       "      <td>0</td>\n",
       "      <td>2.232764</td>\n",
       "      <td>0.216654</td>\n",
       "      <td>1</td>\n",
       "      <td>...</td>\n",
       "      <td>0</td>\n",
       "      <td>0</td>\n",
       "      <td>0</td>\n",
       "      <td>0</td>\n",
       "      <td>1</td>\n",
       "      <td>0</td>\n",
       "      <td>1</td>\n",
       "      <td>0</td>\n",
       "      <td>0</td>\n",
       "      <td>1</td>\n",
       "    </tr>\n",
       "  </tbody>\n",
       "</table>\n",
       "<p>5 rows × 34 columns</p>\n",
       "</div>"
      ],
      "text/plain": [
       "   modo_envio  numero_chamadas_cliente  avaliacao_cliente  custo_produto  \\\n",
       "0           1                -0.057348          -0.700376       0.378505   \n",
       "1           1                -0.057348           1.423904       0.560748   \n",
       "2           1                -1.803706          -0.700376       0.406542   \n",
       "3           1                -0.930527           0.007718       0.373832   \n",
       "4           1                -1.803706          -0.700376       0.411215   \n",
       "\n",
       "   compras_anteriores  prioridade_produto  genero  desconto  peso_gramas  \\\n",
       "0           -0.359702                   1       0  2.099353     0.033893   \n",
       "1           -1.135605                   1       1  3.099936     0.304894   \n",
       "2            0.416201                   1       1  2.366175     0.346676   \n",
       "3            0.416201                   2       1 -0.168635     0.025712   \n",
       "4           -0.359702                   2       0  2.232764     0.216654   \n",
       "\n",
       "   entregue_no_prazo  ...  \\\n",
       "0                  1  ...   \n",
       "1                  1  ...   \n",
       "2                  1  ...   \n",
       "3                  1  ...   \n",
       "4                  1  ...   \n",
       "\n",
       "   performance_modo_envio_Atraso Problemático na Entrega Por Navio  \\\n",
       "0                                                  0                 \n",
       "1                                                  0                 \n",
       "2                                                  0                 \n",
       "3                                                  0                 \n",
       "4                                                  0                 \n",
       "\n",
       "   performance_modo_envio_Atraso Tolerável na Entrega Por Aviao  \\\n",
       "0                                                  0              \n",
       "1                                                  0              \n",
       "2                                                  0              \n",
       "3                                                  0              \n",
       "4                                                  0              \n",
       "\n",
       "   performance_modo_envio_Atraso Tolerável na Entrega Por Caminhao  \\\n",
       "0                                                  0                 \n",
       "1                                                  0                 \n",
       "2                                                  0                 \n",
       "3                                                  0                 \n",
       "4                                                  0                 \n",
       "\n",
       "   performance_modo_envio_Atraso Tolerável na Entrega Por Navio  \\\n",
       "0                                                  0              \n",
       "1                                                  0              \n",
       "2                                                  0              \n",
       "3                                                  0              \n",
       "4                                                  0              \n",
       "\n",
       "   performance_modo_envio_Não Houve Atraso  \\\n",
       "0                                        1   \n",
       "1                                        1   \n",
       "2                                        1   \n",
       "3                                        1   \n",
       "4                                        1   \n",
       "\n",
       "   faixa_desconto_Desconto Abaixo da Media  \\\n",
       "0                                        0   \n",
       "1                                        0   \n",
       "2                                        0   \n",
       "3                                        1   \n",
       "4                                        0   \n",
       "\n",
       "   faixa_desconto_Desconto Acima da Media  \\\n",
       "0                                       1   \n",
       "1                                       1   \n",
       "2                                       1   \n",
       "3                                       0   \n",
       "4                                       1   \n",
       "\n",
       "   performance_faixa_desconto_Atraso na Entrega com Desconto Abaixo da Media  \\\n",
       "0                                                  0                           \n",
       "1                                                  0                           \n",
       "2                                                  0                           \n",
       "3                                                  0                           \n",
       "4                                                  0                           \n",
       "\n",
       "   performance_faixa_desconto_Entrega no Prazo com Desconto Abaixo da Media  \\\n",
       "0                                                  0                          \n",
       "1                                                  0                          \n",
       "2                                                  0                          \n",
       "3                                                  1                          \n",
       "4                                                  0                          \n",
       "\n",
       "   performance_faixa_desconto_Entrega no Prazo com Desconto Acima da Media  \n",
       "0                                                  1                        \n",
       "1                                                  1                        \n",
       "2                                                  1                        \n",
       "3                                                  0                        \n",
       "4                                                  1                        \n",
       "\n",
       "[5 rows x 34 columns]"
      ]
     },
     "execution_count": 48,
     "metadata": {},
     "output_type": "execute_result"
    }
   ],
   "source": [
    "df.head()"
   ]
  },
  {
   "cell_type": "code",
   "execution_count": 49,
   "id": "830274e5",
   "metadata": {},
   "outputs": [],
   "source": [
    "df.to_csv('dados/dataset_final.csv', sep = ',', encoding = 'utf-8')"
   ]
  }
 ],
 "metadata": {
  "kernelspec": {
   "display_name": "Python 3 (ipykernel)",
   "language": "python",
   "name": "python3"
  },
  "language_info": {
   "codemirror_mode": {
    "name": "ipython",
    "version": 3
   },
   "file_extension": ".py",
   "mimetype": "text/x-python",
   "name": "python",
   "nbconvert_exporter": "python",
   "pygments_lexer": "ipython3",
   "version": "3.9.13"
  }
 },
 "nbformat": 4,
 "nbformat_minor": 5
}
